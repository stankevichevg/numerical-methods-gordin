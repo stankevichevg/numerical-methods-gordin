{
 "cells": [
  {
   "cell_type": "code",
   "execution_count": 2,
   "metadata": {
    "collapsed": true
   },
   "outputs": [],
   "source": [
    "%matplotlib inline\n",
    "\n",
    "import matplotlib\n",
    "import matplotlib.pyplot as plt\n",
    "\n",
    "import seaborn\n",
    "seaborn.mpl.rcParams['figure.figsize'] = (7.0, 4.0)\n",
    "seaborn.mpl.rcParams['savefig.dpi'] = 100\n",
    "\n",
    "import pandas as pd\n",
    "import numpy as np"
   ]
  },
  {
   "cell_type": "markdown",
   "metadata": {},
   "source": [
    "Необходимо построить на отрезке многочлен 4-ой степени производная которого на краях принимает нулевые значения. Нужно построить такой многочлен, который (в смысле квадратов отклонений) удален от данных измерений."
   ]
  },
  {
   "cell_type": "code",
   "execution_count": 54,
   "metadata": {
    "collapsed": false
   },
   "outputs": [],
   "source": [
    "import numpy as np\n",
    "\n",
    "t = np.array([0, 1, 2, 3, 4])\n",
    "y = np.array([0, 1, -2, 3, -4])"
   ]
  },
  {
   "cell_type": "markdown",
   "metadata": {},
   "source": [
    "Я знаю, что задачу можно решить точно, составив хтрую систему линейных уравнений и решив ее, но я в этом не очень хорошо разобрался, поэтому решу задачу численно составив функционал как сумма квадратов ошибок и применив численную оптимизацию при условии заданных ограничений, это я помню как делать и кроме того условие задачи не предполагает решение, которым задача должна быть решена.\n",
    "\n",
    "Некотрые моменты реализованы не оптимальным образом (не стоит применять это в продакшене :)), это сделано в пользу экономии времени на экзамене."
   ]
  },
  {
   "cell_type": "markdown",
   "metadata": {},
   "source": [
    "Реализуем функцию которая создает функцию для рассчета значения многочлена степени в точке при заданных параметрах:"
   ]
  },
  {
   "cell_type": "code",
   "execution_count": 64,
   "metadata": {
    "collapsed": false
   },
   "outputs": [
    {
     "data": {
      "text/plain": [
       "10"
      ]
     },
     "execution_count": 64,
     "metadata": {},
     "output_type": "execute_result"
    }
   ],
   "source": [
    "def create_poly(params):\n",
    "    n = params.shape[0]\n",
    "    def poly(x):\n",
    "        return np.sum(np.array([params[i] * (x ** (n - i - 1)) for i in range(n)]))\n",
    "    return poly\n",
    "\n",
    "# просто проверка\n",
    "f = create_poly(np.array([1,2,2]))\n",
    "f(2)"
   ]
  },
  {
   "cell_type": "markdown",
   "metadata": {},
   "source": [
    "Создадим функцию для расчета значения функционала для полинома с заданными паарметрами и заданных известных значений:"
   ]
  },
  {
   "cell_type": "code",
   "execution_count": 59,
   "metadata": {
    "collapsed": true
   },
   "outputs": [],
   "source": [
    "def squared_error(params):\n",
    "    poly = create_poly(params)\n",
    "    value = 0.0\n",
    "    for i in range(t.shape[0]):\n",
    "        value += np.power((poly(t[i]) - y[i]), 2)\n",
    "    return value"
   ]
  },
  {
   "cell_type": "code",
   "execution_count": 60,
   "metadata": {
    "collapsed": false
   },
   "outputs": [
    {
     "name": "stdout",
     "output_type": "stream",
     "text": [
      "Optimization terminated successfully.    (Exit mode 0)\n",
      "            Current function value: 25.202233342612008\n",
      "            Iterations: 8\n",
      "            Function evaluations: 60\n",
      "            Gradient evaluations: 8\n"
     ]
    },
    {
     "data": {
      "text/plain": [
       "     fun: 25.202233342612008\n",
       "     jac: array([  5.20147846e+02,   9.75274432e+01,   1.62544727e+01,\n",
       "         2.41902852e+00,  -3.21865082e-05])\n",
       " message: 'Optimization terminated successfully.'\n",
       "    nfev: 60\n",
       "     nit: 8\n",
       "    njev: 8\n",
       "  status: 0\n",
       " success: True\n",
       "       x: array([ 0.09421709, -0.69803379,  1.17325578,  0.        , -0.14943228])"
      ]
     },
     "execution_count": 60,
     "metadata": {},
     "output_type": "execute_result"
    }
   ],
   "source": [
    "from scipy.optimize import minimize\n",
    "\n",
    "constraints = [\n",
    "    # значение в левой точке равно нулю\n",
    "    {\n",
    "        'type': 'eq',\n",
    "        'fun': lambda params: params[3]\n",
    "    },\n",
    "    # значение в правой точке равно нулю\n",
    "    {\n",
    "        'type': 'eq',\n",
    "        'fun': lambda ps: 4 * ps[0] * np.power(4.0, 3) + 3 * ps[1] * np.power(4.0, 2) + 2 * ps[2] * 4.0 + ps[3]\n",
    "    }\n",
    "]\n",
    "\n",
    "result = minimize(\n",
    "    squared_error, [0.2,0.2,0.2,0.2,0.2],\n",
    "    constraints=tuple(constraints), options={'disp': True, 'maxiter': 1000}\n",
    ")\n",
    "\n",
    "result"
   ]
  },
  {
   "cell_type": "code",
   "execution_count": 61,
   "metadata": {
    "collapsed": true
   },
   "outputs": [],
   "source": [
    "found_poly = np.vectorize(create_poly(result.x))\n",
    "ts = np.linspace(0, 4, 100)\n",
    "ys = found_poly(ts)"
   ]
  },
  {
   "cell_type": "code",
   "execution_count": 62,
   "metadata": {
    "collapsed": false
   },
   "outputs": [
    {
     "data": {
      "image/png": "[encoded data removed]",
      "text/plain": [
       "<matplotlib.figure.Figure at 0x11b774668>"
      ]
     },
     "metadata": {},
     "output_type": "display_data"
    }
   ],
   "source": [
    "pY = plt.plot(t, y, 'og')\n",
    "pL = plt.plot(ts, ys, 'r')"
   ]
  },
  {
   "cell_type": "markdown",
   "metadata": {},
   "source": [
    "Посчитаем значение функционала для константы"
   ]
  },
  {
   "cell_type": "code",
   "execution_count": 66,
   "metadata": {
    "collapsed": false
   },
   "outputs": [
    {
     "data": {
      "text/plain": [
       "29.199999999999999"
      ]
     },
     "execution_count": 66,
     "metadata": {},
     "output_type": "execute_result"
    }
   ],
   "source": [
    "squared_error(np.array([np.mean(y)]))"
   ]
  }
 ],
 "metadata": {
  "anaconda-cloud": {},
  "kernelspec": {
   "display_name": "Python [conda root]",
   "language": "python",
   "name": "conda-root-py"
  },
  "language_info": {
   "codemirror_mode": {
    "name": "ipython",
    "version": 3
   },
   "file_extension": ".py",
   "mimetype": "text/x-python",
   "name": "python",
   "nbconvert_exporter": "python",
   "pygments_lexer": "ipython3",
   "version": "3.5.2"
  },
  "widgets": {
   "state": {},
   "version": "1.1.2"
  }
 },
 "nbformat": 4,
 "nbformat_minor": 2
}
